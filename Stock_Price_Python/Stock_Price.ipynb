{
 "cells": [
  {
   "cell_type": "code",
   "execution_count": null,
   "metadata": {},
   "outputs": [],
   "source": []
  }
 ],
 "metadata": {
  "kernelspec": {
   "display_name": "base",
   "language": "python",
   "name": "python3"
  },
  "language_info": {
   "name": "python",
   "version": "3.9.12"
  },
  "orig_nbformat": 4,
  "vscode": {
   "interpreter": {
    "hash": "088cc60654e1a0c72d5e004fee47409ec45560ee9b9b59ad3f2c635786e557ee"
   }
  }
 },
 "nbformat": 4,
 "nbformat_minor": 2
}
